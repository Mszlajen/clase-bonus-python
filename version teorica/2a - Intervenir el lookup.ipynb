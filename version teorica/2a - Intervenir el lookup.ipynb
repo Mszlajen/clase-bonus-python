{
 "cells": [
  {
   "cell_type": "code",
   "execution_count": null,
   "metadata": {},
   "outputs": [],
   "source": [
    "# Clase de framework\n",
    "class Persona:\n",
    "    def __init__(self, nombre, edad) -> None:\n",
    "        self.nombre = nombre\n",
    "        self.edad = edad\n",
    "\n",
    "    def __str__(self) -> str:\n",
    "        return f\"{self.nombre} ({self.edad})\"\n",
    "\n",
    "matias = Persona(\"Matias\", 26)"
   ]
  },
  {
   "cell_type": "code",
   "execution_count": null,
   "metadata": {},
   "outputs": [],
   "source": [
    "# Decorator para mi dominio\n",
    "class Anonimo:\n",
    "    def __init__(self, persona) -> None:\n",
    "        self.persona = persona\n",
    "\n",
    "# Anonimo().nombre => \"Anon\""
   ]
  }
 ],
 "metadata": {
  "language_info": {
   "name": "python"
  }
 },
 "nbformat": 4,
 "nbformat_minor": 2
}
