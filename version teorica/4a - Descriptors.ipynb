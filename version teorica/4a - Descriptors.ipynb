{
 "cells": [
  {
   "cell_type": "code",
   "execution_count": 3,
   "metadata": {},
   "outputs": [],
   "source": [
    "class Persona:    \n",
    "    def __init__(self, nombre, apellido) -> None:\n",
    "        self.nombre = nombre\n",
    "        self.apellido = apellido\n",
    "\n",
    "    @property\n",
    "    def nombre_completo(self):\n",
    "        return f\"{self.nombre} {self.apellido}\"\n",
    "    \n",
    "Persona(\"Matias\", \"Szlajen\").nombre_completo"
   ]
  },
  {
   "cell_type": "code",
   "execution_count": 9,
   "metadata": {},
   "outputs": [
    {
     "name": "stdout",
     "output_type": "stream",
     "text": [
      "Nuevo precio debe ser mayor a 0\n"
     ]
    }
   ],
   "source": [
    "class Producto:\n",
    "    def __init__(self, descripcion, precio):\n",
    "        self.descripcion = descripcion\n",
    "        self.precio = precio\n",
    "    \n",
    "    @property\n",
    "    def precio(self):\n",
    "        return self._precio\n",
    "    \n",
    "    @precio.setter\n",
    "    def precio(self, nuevo_precio):\n",
    "        if nuevo_precio < 0:\n",
    "            raise ValueError(\"Nuevo precio debe ser mayor a 0\")\n",
    "        self._precio = nuevo_precio\n",
    "\n",
    "try:\n",
    "    Producto(\"Huevos\", 1).precio = -1\n",
    "except Exception as e:\n",
    "    print(e)"
   ]
  },
  {
   "cell_type": "markdown",
   "metadata": {},
   "source": [
    "---"
   ]
  },
  {
   "cell_type": "code",
   "execution_count": 6,
   "metadata": {},
   "outputs": [
    {
     "data": {
      "text/plain": [
       "<property at 0x128bac997b0>"
      ]
     },
     "execution_count": 6,
     "metadata": {},
     "output_type": "execute_result"
    }
   ],
   "source": [
    "Persona.nombre_completo"
   ]
  },
  {
   "cell_type": "code",
   "execution_count": 10,
   "metadata": {},
   "outputs": [
    {
     "data": {
      "text/plain": [
       "<property at 0x128bacef650>"
      ]
     },
     "execution_count": 10,
     "metadata": {},
     "output_type": "execute_result"
    }
   ],
   "source": [
    "Producto.precio"
   ]
  }
 ],
 "metadata": {
  "kernelspec": {
   "display_name": "Python 3",
   "language": "python",
   "name": "python3"
  },
  "language_info": {
   "codemirror_mode": {
    "name": "ipython",
    "version": 3
   },
   "file_extension": ".py",
   "mimetype": "text/x-python",
   "name": "python",
   "nbconvert_exporter": "python",
   "pygments_lexer": "ipython3",
   "version": "3.12.2"
  }
 },
 "nbformat": 4,
 "nbformat_minor": 2
}
