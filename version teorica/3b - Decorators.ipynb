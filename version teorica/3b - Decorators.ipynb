{
 "cells": [
  {
   "cell_type": "code",
   "execution_count": null,
   "metadata": {},
   "outputs": [],
   "source": [
    "from time import time\n",
    "\n",
    "def time_log(m):\n",
    "    def wrapper(self, *args, **kwargs):\n",
    "        start = time()\n",
    "        m(self, *args, **kwargs)\n",
    "        print(f\"{m.__name__} took {time() - start}ms\")\n",
    "    return wrapper\n",
    "\n",
    "    \n",
    "class A:\n",
    "    def m1(self, *args, **kwargs):\n",
    "        ... # Logica\n",
    "    m1 = time_log(m1)\n",
    "    \n",
    "    def m2(self, *args, **kwargs):\n",
    "        ... # Logica\n",
    "    m2 = time_log(m2)\n",
    "    \n",
    "    def m3(self, *args, **kwargs):\n",
    "        ... # Logica\n",
    "    m3 = time_log(m3)\n",
    "    \n",
    "    def m4(self, *args, **kwargs):\n",
    "        ... # Logica\n",
    "    \n",
    "    def m5(self, *args, **kwargs):\n",
    "        ... # Logica\n",
    "\n",
    "A().m1()"
   ]
  },
  {
   "cell_type": "markdown",
   "metadata": {},
   "source": [
    "---"
   ]
  },
  {
   "cell_type": "code",
   "execution_count": null,
   "metadata": {},
   "outputs": [],
   "source": [
    "from time import time\n",
    "\n",
    "def time_log(m):\n",
    "    def wrapper(self, *args, **kwargs):\n",
    "        start = time()\n",
    "        m(self, *args, **kwargs)\n",
    "        print(f\"{m.__name__} took {time() - start}ms\")\n",
    "    return wrapper\n",
    "\n",
    "class A:\n",
    "    @time_log\n",
    "    def m1(self, *args, **kwargs):\n",
    "        ... # Logica\n",
    "    \n",
    "    @time_log\n",
    "    def m2(self, *args, **kwargs):\n",
    "        ... # Logica\n",
    "    \n",
    "    @time_log\n",
    "    def m3(self, *args, **kwargs):\n",
    "        ... # Logica\n",
    "    \n",
    "    def m4(self, *args, **kwargs):\n",
    "        ... # Logica\n",
    "    \n",
    "    def m5(self, *args, **kwargs):\n",
    "        ... # Logica\n",
    "\n",
    "A().m1()"
   ]
  }
 ],
 "metadata": {
  "kernelspec": {
   "display_name": "Python 3",
   "language": "python",
   "name": "python3"
  },
  "language_info": {
   "codemirror_mode": {
    "name": "ipython",
    "version": 3
   },
   "file_extension": ".py",
   "mimetype": "text/x-python",
   "name": "python",
   "nbconvert_exporter": "python",
   "pygments_lexer": "ipython3",
   "version": "3.12.2"
  }
 },
 "nbformat": 4,
 "nbformat_minor": 2
}
