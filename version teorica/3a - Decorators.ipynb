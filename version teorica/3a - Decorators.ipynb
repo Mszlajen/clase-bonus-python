{
 "cells": [
  {
   "cell_type": "code",
   "execution_count": null,
   "metadata": {},
   "outputs": [],
   "source": [
    "from time import time\n",
    "\n",
    "class A:\n",
    "    def m1(self, *args, **kwargs):\n",
    "        start = time()\n",
    "        ... # Logica\n",
    "        print(f\"m1 took {time() - start}ms\")\n",
    "    \n",
    "    def m2(self, *args, **kwargs):\n",
    "        start = time()\n",
    "        ... # Logica\n",
    "        print(f\"m2 took {time() - start}ms\")\n",
    "    \n",
    "    def m3(self, *args, **kwargs):\n",
    "        start = time()\n",
    "        ... # Logica\n",
    "        print(f\"otro nombre took {time() - start}ms\")\n",
    "    \n",
    "    def m4(self, *args, **kwargs):\n",
    "        ... # Logica\n",
    "    \n",
    "    def m5(self, *args, **kwargs):\n",
    "        ... # Logica\n",
    "\n",
    "A().m1()"
   ]
  },
  {
   "cell_type": "markdown",
   "metadata": {},
   "source": [
    "---"
   ]
  },
  {
   "cell_type": "code",
   "execution_count": null,
   "metadata": {},
   "outputs": [],
   "source": [
    "from time import time\n",
    "\n",
    "def time_it(name, f, *args, **kwargs):\n",
    "    start = time()\n",
    "    f(*args, **kwargs)\n",
    "    print(f\"{name} took {time() - start}ms\")\n",
    "\n",
    "class A:\n",
    "    def m1(self, *args, **kwargs):\n",
    "        def inner(self, *args, **kwargs):\n",
    "            ... # Logica\n",
    "        time_it('m1', inner, *args, **kwargs)\n",
    "        \n",
    "    \n",
    "    def m2(self, *args, **kwargs):\n",
    "        def inner(self, *args, **kwargs):\n",
    "            ... # Logica\n",
    "        time_it('m1', inner, *args, **kwargs)\n",
    "    \n",
    "    def m3(self, *args, **kwargs):\n",
    "        def inner(self, *args, **kwargs):\n",
    "            ... # Logica\n",
    "        time_it('otro nombre', inner, *args, **kwargs)\n",
    "    \n",
    "    def m4(self, *args, **kwargs):\n",
    "        ... # Logica\n",
    "    \n",
    "    def m5(self, *args, **kwargs):\n",
    "        ... # Logica\n",
    "    \n",
    "\n",
    "A().m1()"
   ]
  }
 ],
 "metadata": {
  "kernelspec": {
   "display_name": "Python 3",
   "language": "python",
   "name": "python3"
  },
  "language_info": {
   "codemirror_mode": {
    "name": "ipython",
    "version": 3
   },
   "file_extension": ".py",
   "mimetype": "text/x-python",
   "name": "python",
   "nbconvert_exporter": "python",
   "pygments_lexer": "ipython3",
   "version": "3.12.2"
  }
 },
 "nbformat": 4,
 "nbformat_minor": 2
}
