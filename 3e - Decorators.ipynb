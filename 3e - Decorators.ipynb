{
 "cells": [
  {
   "cell_type": "code",
   "execution_count": null,
   "metadata": {},
   "outputs": [],
   "source": [
    "TEST = []\n",
    "\n",
    "def test(f):\n",
    "    TEST.append(f)\n",
    "    return f\n",
    "\n",
    "@test\n",
    "def un_test():\n",
    "    ...\n",
    "\n",
    "@test\n",
    "def otro_test():\n",
    "    ...\n",
    "\n",
    "@test\n",
    "def otro_mas_test():\n",
    "    ...\n",
    "\n",
    "TEST"
   ]
  }
 ],
 "metadata": {
  "kernelspec": {
   "display_name": "Python 3",
   "language": "python",
   "name": "python3"
  },
  "language_info": {
   "codemirror_mode": {
    "name": "ipython",
    "version": 3
   },
   "file_extension": ".py",
   "mimetype": "text/x-python",
   "name": "python",
   "nbconvert_exporter": "python",
   "pygments_lexer": "ipython3",
   "version": "3.12.2"
  }
 },
 "nbformat": 4,
 "nbformat_minor": 2
}
