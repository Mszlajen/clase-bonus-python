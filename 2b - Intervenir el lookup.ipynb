{
 "cells": [
  {
   "cell_type": "code",
   "execution_count": 2,
   "metadata": {},
   "outputs": [],
   "source": [
    "class Persona:\n",
    "    def __init__(self, nombre: str, edad: int) -> None:\n",
    "        self.nombre = nombre\n",
    "        self.edad = edad\n",
    "    \n",
    "    def __str__(self) -> str:\n",
    "        return f\"{self.nombre} ({self.edad})\"\n",
    "\n",
    "matias = Persona(\"Matias\", 26)"
   ]
  },
  {
   "cell_type": "code",
   "execution_count": null,
   "metadata": {},
   "outputs": [],
   "source": [
    "class Anonimo:\n",
    "    def __init__(self, persona) -> None:\n",
    "        self.persona = persona\n",
    "        self.nombre = \"Anon\"\n",
    "    \n",
    "    def __getattr__(self, msg):\n",
    "        return getattr(self.persona, msg)\n",
    "\n",
    "anon = Anonimo(matias)\n",
    "print(anon.nombre)\n",
    "print(anon.edad)\n",
    "print(anon.__str__())\n",
    "print(anon.__dict__)\n",
    "print(anon.algo_que_no_existe)"
   ]
  },
  {
   "cell_type": "markdown",
   "metadata": {},
   "source": [
    "---"
   ]
  },
  {
   "cell_type": "code",
   "execution_count": null,
   "metadata": {},
   "outputs": [],
   "source": [
    "from types import MethodType\n",
    "class Anonimo:\n",
    "    def __init__(self, persona) -> None:\n",
    "        self.persona = persona\n",
    "        self.nombre = \"Anon\"\n",
    "    \n",
    "    def __getattr__(self, name):\n",
    "        attr = getattr(self.persona, name)\n",
    "        if isinstance(attr, MethodType):\n",
    "            return MethodType(attr.__func__, self)\n",
    "        return attr\n",
    "\n",
    "print(Anonimo(matias).__str__())\n",
    "print(Anonimo(matias).__dict__)"
   ]
  }
 ],
 "metadata": {
  "kernelspec": {
   "display_name": "Python 3",
   "language": "python",
   "name": "python3"
  },
  "language_info": {
   "codemirror_mode": {
    "name": "ipython",
    "version": 3
   },
   "file_extension": ".py",
   "mimetype": "text/x-python",
   "name": "python",
   "nbconvert_exporter": "python",
   "pygments_lexer": "ipython3",
   "version": "3.12.2"
  }
 },
 "nbformat": 4,
 "nbformat_minor": 2
}
