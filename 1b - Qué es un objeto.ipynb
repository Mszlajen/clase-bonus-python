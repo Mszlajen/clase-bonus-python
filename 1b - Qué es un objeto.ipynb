{
 "cells": [
  {
   "cell_type": "code",
   "execution_count": 1,
   "metadata": {},
   "outputs": [],
   "source": [
    "class Persona:\n",
    "    def __init__(self, nombre, edad):\n",
    "        self.edad = edad\n",
    "        self.nombre = nombre\n",
    "    \n",
    "    def joven(self):\n",
    "        return self.edad < 30\n",
    "\n",
    "juan = Persona(\"Juan\", 50)\n",
    "matias = Persona(\"Matias\", 26)"
   ]
  },
  {
   "cell_type": "code",
   "execution_count": 2,
   "metadata": {},
   "outputs": [],
   "source": [
    "matias.edad = 30"
   ]
  },
  {
   "cell_type": "code",
   "execution_count": null,
   "metadata": {},
   "outputs": [],
   "source": [
    "Persona.bebe = lambda self: self.edad < 18\n",
    "\n",
    "matias.bebe()"
   ]
  },
  {
   "cell_type": "code",
   "execution_count": null,
   "metadata": {},
   "outputs": [],
   "source": [
    "matias.pelado = lambda self: self.edad > 40\n",
    "\n",
    "matias.pelado()"
   ]
  },
  {
   "cell_type": "code",
   "execution_count": null,
   "metadata": {},
   "outputs": [],
   "source": [
    "matias.pelado = lambda: matias.edad > 40\n",
    "\n",
    "matias.pelado()"
   ]
  },
  {
   "cell_type": "code",
   "execution_count": null,
   "metadata": {},
   "outputs": [],
   "source": [
    "from types import MethodType\n",
    "\n",
    "matias.pelado = MethodType(lambda self: self.edad > 40, matias)\n",
    "\n",
    "matias.pelado()"
   ]
  }
 ],
 "metadata": {
  "kernelspec": {
   "display_name": "Python 3",
   "language": "python",
   "name": "python3"
  },
  "language_info": {
   "codemirror_mode": {
    "name": "ipython",
    "version": 3
   },
   "file_extension": ".py",
   "mimetype": "text/x-python",
   "name": "python",
   "nbconvert_exporter": "python",
   "pygments_lexer": "ipython3",
   "version": "3.12.2"
  }
 },
 "nbformat": 4,
 "nbformat_minor": 2
}
