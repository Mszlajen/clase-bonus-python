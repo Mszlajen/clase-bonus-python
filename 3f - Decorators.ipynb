{
 "cells": [
  {
   "cell_type": "code",
   "execution_count": null,
   "metadata": {},
   "outputs": [],
   "source": [
    "TEST_SUITES = []\n",
    "\n",
    "def test_suite(cls):\n",
    "    TEST_SUITES.append(cls)\n",
    "\n",
    "@test_suite\n",
    "class MyTestSuite:\n",
    "    def test_something(self):\n",
    "        ...\n",
    "    \n",
    "    def test_something_else(self):\n",
    "        ...\n",
    "    \n",
    "    def test_some_more(self):\n",
    "        ...\n",
    "\n",
    "TEST_SUITES"
   ]
  }
 ],
 "metadata": {
  "language_info": {
   "name": "python"
  }
 },
 "nbformat": 4,
 "nbformat_minor": 2
}
