{
 "cells": [
  {
   "cell_type": "code",
   "execution_count": null,
   "metadata": {},
   "outputs": [],
   "source": [
    "class Propiedad:\n",
    "    def __init__(self, fget):\n",
    "        self.fget = fget\n",
    "        self.fset = None\n",
    "    \n",
    "    def __set_name__(self, dueño, nombre):\n",
    "        self.dueño = dueño\n",
    "        self.nombre = nombre\n",
    "    \n",
    "    def setter(self, fset):\n",
    "        self.fset = fset\n",
    "        return self\n",
    "    \n",
    "    def __get__(self, obj, objtype):\n",
    "        if obj is not None:\n",
    "            return self.fget(obj)\n",
    "        return self\n",
    "    \n",
    "    def __set__(self, obj, value):\n",
    "        if self.fset is None:\n",
    "            raise AttributeError(f\"Propiedad '{self.nombre}' de '{self.dueño.__name__}' no tiene setter\")\n",
    "        self.fset(obj, value)"
   ]
  },
  {
   "cell_type": "markdown",
   "metadata": {},
   "source": [
    "----"
   ]
  },
  {
   "cell_type": "code",
   "execution_count": 12,
   "metadata": {},
   "outputs": [
    {
     "name": "stdout",
     "output_type": "stream",
     "text": [
      "Propiedad 'nombre_completo' de 'Persona' no tiene setter\n"
     ]
    }
   ],
   "source": [
    "class Persona:    \n",
    "    def __init__(self, nombre, apellido) -> None:\n",
    "        self.nombre = nombre\n",
    "        self.apellido = apellido\n",
    "\n",
    "    @Propiedad\n",
    "    def nombre_completo(self):\n",
    "        return f\"{self.nombre} {self.apellido}\"\n",
    "\n",
    "try:\n",
    "    Persona(\"Matias\", \"Szlajen\").nombre_completo = \"Matias Szlajen\"\n",
    "except Exception as e:\n",
    "    print(e)"
   ]
  }
 ],
 "metadata": {
  "kernelspec": {
   "display_name": "Python 3",
   "language": "python",
   "name": "python3"
  },
  "language_info": {
   "codemirror_mode": {
    "name": "ipython",
    "version": 3
   },
   "file_extension": ".py",
   "mimetype": "text/x-python",
   "name": "python",
   "nbconvert_exporter": "python",
   "pygments_lexer": "ipython3",
   "version": "3.12.2"
  }
 },
 "nbformat": 4,
 "nbformat_minor": 2
}
