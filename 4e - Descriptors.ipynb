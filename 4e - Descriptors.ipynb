{
 "cells": [
  {
   "cell_type": "code",
   "execution_count": 1,
   "metadata": {},
   "outputs": [],
   "source": [
    "from datetime import date, timedelta\n",
    "class Fecha:\n",
    "    def __set_name__(self, dueño, nombre):\n",
    "        self.dueño = dueño\n",
    "        self.nombre = nombre\n",
    "        self.attr_año = f\"{nombre}_año\"\n",
    "        self.attr_mes = f\"{nombre}_mes\"\n",
    "        self.attr_dia = f\"{nombre}_dia\"\n",
    "    \n",
    "    def __get__(self, obj, objtype):\n",
    "        if obj is not None:\n",
    "            return date(getattr(obj, self.attr_año), getattr(obj, self.attr_mes), getattr(obj, self.attr_dia))\n",
    "        return self\n",
    "    \n",
    "    def __set__(self, obj, value):\n",
    "        if isinstance(value, date):\n",
    "            setattr(obj, self.attr_año, value.year)\n",
    "            setattr(obj, self.attr_mes, value.month)\n",
    "            setattr(obj, self.attr_dia, value.day)\n",
    "        else:\n",
    "            raise ValueError(f\"{self.nombre} solo puede ser una fecha\")"
   ]
  },
  {
   "cell_type": "markdown",
   "metadata": {},
   "source": [
    "----"
   ]
  },
  {
   "cell_type": "code",
   "execution_count": 3,
   "metadata": {},
   "outputs": [
    {
     "data": {
      "text/plain": [
       "2025"
      ]
     },
     "execution_count": 3,
     "metadata": {},
     "output_type": "execute_result"
    }
   ],
   "source": [
    "class Curso:\n",
    "    inicio = Fecha()\n",
    "    fin = Fecha()\n",
    "    \n",
    "    def __init__(self, inicio, fin):\n",
    "        self.inicio = inicio\n",
    "        self.fin = fin\n",
    "\n",
    "Curso(date.today(), date.today() + timedelta(days=10)).inicio_año"
   ]
  }
 ],
 "metadata": {
  "kernelspec": {
   "display_name": "Python 3",
   "language": "python",
   "name": "python3"
  },
  "language_info": {
   "codemirror_mode": {
    "name": "ipython",
    "version": 3
   },
   "file_extension": ".py",
   "mimetype": "text/x-python",
   "name": "python",
   "nbconvert_exporter": "python",
   "pygments_lexer": "ipython3",
   "version": "3.12.2"
  }
 },
 "nbformat": 4,
 "nbformat_minor": 2
}
